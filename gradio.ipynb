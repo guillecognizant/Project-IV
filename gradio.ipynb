{
 "cells": [
  {
   "cell_type": "code",
   "execution_count": null,
   "metadata": {},
   "outputs": [],
   "source": [
    "pip install gradio"
   ]
  },
  {
   "cell_type": "code",
   "execution_count": 16,
   "metadata": {},
   "outputs": [
    {
     "name": "stdout",
     "output_type": "stream",
     "text": [
      "Running on local URL:  http://127.0.0.1:7872\n",
      "\n",
      "To create a public link, set `share=True` in `launch()`.\n"
     ]
    },
    {
     "data": {
      "text/html": [
       "<div><iframe src=\"http://127.0.0.1:7872/\" width=\"100%\" height=\"500\" allow=\"autoplay; camera; microphone; clipboard-read; clipboard-write;\" frameborder=\"0\" allowfullscreen></iframe></div>"
      ],
      "text/plain": [
       "<IPython.core.display.HTML object>"
      ]
     },
     "metadata": {},
     "output_type": "display_data"
    },
    {
     "data": {
      "text/plain": []
     },
     "execution_count": 16,
     "metadata": {},
     "output_type": "execute_result"
    },
    {
     "name": "stderr",
     "output_type": "stream",
     "text": [
      "ERROR:    Exception in ASGI application\n",
      "Traceback (most recent call last):\n",
      "  File \"s:\\anaconda3\\Lib\\site-packages\\uvicorn\\protocols\\http\\httptools_impl.py\", line 399, in run_asgi\n",
      "    result = await app(  # type: ignore[func-returns-value]\n",
      "             ^^^^^^^^^^^^^^^^^^^^^^^^^^^^^^^^^^^^^^^^^^^^^^\n",
      "  File \"s:\\anaconda3\\Lib\\site-packages\\uvicorn\\middleware\\proxy_headers.py\", line 70, in __call__\n",
      "    return await self.app(scope, receive, send)\n",
      "           ^^^^^^^^^^^^^^^^^^^^^^^^^^^^^^^^^^^^\n",
      "  File \"s:\\anaconda3\\Lib\\site-packages\\fastapi\\applications.py\", line 1054, in __call__\n",
      "    await super().__call__(scope, receive, send)\n",
      "  File \"s:\\anaconda3\\Lib\\site-packages\\starlette\\applications.py\", line 123, in __call__\n",
      "    await self.middleware_stack(scope, receive, send)\n",
      "  File \"s:\\anaconda3\\Lib\\site-packages\\starlette\\middleware\\errors.py\", line 186, in __call__\n",
      "    raise exc\n",
      "  File \"s:\\anaconda3\\Lib\\site-packages\\starlette\\middleware\\errors.py\", line 164, in __call__\n",
      "    await self.app(scope, receive, _send)\n",
      "  File \"s:\\anaconda3\\Lib\\site-packages\\gradio\\route_utils.py\", line 714, in __call__\n",
      "    await self.app(scope, receive, send)\n",
      "  File \"s:\\anaconda3\\Lib\\site-packages\\starlette\\middleware\\exceptions.py\", line 65, in __call__\n",
      "    await wrap_app_handling_exceptions(self.app, conn)(scope, receive, send)\n",
      "  File \"s:\\anaconda3\\Lib\\site-packages\\starlette\\_exception_handler.py\", line 64, in wrapped_app\n",
      "    raise exc\n",
      "  File \"s:\\anaconda3\\Lib\\site-packages\\starlette\\_exception_handler.py\", line 53, in wrapped_app\n",
      "    await app(scope, receive, sender)\n",
      "  File \"s:\\anaconda3\\Lib\\site-packages\\starlette\\routing.py\", line 756, in __call__\n",
      "    await self.middleware_stack(scope, receive, send)\n",
      "  File \"s:\\anaconda3\\Lib\\site-packages\\starlette\\routing.py\", line 776, in app\n",
      "    await route.handle(scope, receive, send)\n",
      "  File \"s:\\anaconda3\\Lib\\site-packages\\starlette\\routing.py\", line 297, in handle\n",
      "    await self.app(scope, receive, send)\n",
      "  File \"s:\\anaconda3\\Lib\\site-packages\\starlette\\routing.py\", line 77, in app\n",
      "    await wrap_app_handling_exceptions(app, request)(scope, receive, send)\n",
      "  File \"s:\\anaconda3\\Lib\\site-packages\\starlette\\_exception_handler.py\", line 64, in wrapped_app\n",
      "    raise exc\n",
      "  File \"s:\\anaconda3\\Lib\\site-packages\\starlette\\_exception_handler.py\", line 53, in wrapped_app\n",
      "    await app(scope, receive, sender)\n",
      "  File \"s:\\anaconda3\\Lib\\site-packages\\starlette\\routing.py\", line 75, in app\n",
      "    await response(scope, receive, send)\n",
      "  File \"s:\\anaconda3\\Lib\\site-packages\\starlette\\responses.py\", line 352, in __call__\n",
      "    await send(\n",
      "  File \"s:\\anaconda3\\Lib\\site-packages\\starlette\\_exception_handler.py\", line 50, in sender\n",
      "    await send(message)\n",
      "  File \"s:\\anaconda3\\Lib\\site-packages\\starlette\\_exception_handler.py\", line 50, in sender\n",
      "    await send(message)\n",
      "  File \"s:\\anaconda3\\Lib\\site-packages\\starlette\\middleware\\errors.py\", line 161, in _send\n",
      "    await send(message)\n",
      "  File \"s:\\anaconda3\\Lib\\site-packages\\uvicorn\\protocols\\http\\httptools_impl.py\", line 534, in send\n",
      "    raise RuntimeError(\"Response content shorter than Content-Length\")\n",
      "RuntimeError: Response content shorter than Content-Length\n"
     ]
    },
    {
     "name": "stdout",
     "output_type": "stream",
     "text": [
      "<_io.BytesIO object at 0x0000013BB8FD1120>\n",
      "Texto extraído con OCR:\n",
      "~i2i J;_il ~5001+ { ~c ! Auro-enlrepraneur Date 28/03/2023 Facture numéro 000 001 Client Smart Call Distribution Adresse 3, Angle Rues Alfred de Musset et Abdelkader El Mazini ler Etage, Quartier Gautier, Casablanca Dësignátíön 'Quantité Prixunitaire Total RD.V 30 120,00 DH 3600.00 DH AVANCE SUR REMUNERATION 500,00 500,00 Montant en dirhams Total Net à payer 3100,00 (Hors champ de la TVA') ARRETE LA PRESENTE FACTURE A LA SOMME DE #TROIS MILLE CENT DIRHAMS # Fifltukeh S8yY 'Art 89 II = 1' c, Code Général des Impôts. ICE: Auto Entrepreneur Mouhcine FTOUHI CNIE A 251909 Adresse 3, Imm 97, GH 23, Lotissement Firdaous, Oulfa, Casblanca ICE (N' d'inscription au registre national de lauto-entrepreneur) 003159152000040 IF : 52682016 Taxe professionnelle N' 25909366 TEL 0696579734 Mail Mouhcine22f@gmail com Mouncho Conaz Auto-Entr OoCw 00315\n"
     ]
    }
   ],
   "source": [
    "import gradio as gr\n",
    "import pandas as pd\n",
    "import json \n",
    "from FactureModel import Facture\n",
    "import constants as const\n",
    "from gradio import Interface, Image, Checkbox, Textbox\n",
    "from functions import readDataSet, imageObjCreation, readImgOCR, pydanticParser, instructionsFormat, LLMModelCall, query_pinecone\n",
    "\n",
    "def process_invoice(image_path, do_easyocr):\n",
    "    # Step 1: Process the image to extract text using OCR\n",
    "    with open(image_path, \"rb\") as f:\n",
    "        image_bytes = f.read()\n",
    "    image_obj = imageObjCreation(image_bytes)\n",
    "    ocr_text = readImgOCR(image_bytes, image_obj, do_easyocr)\n",
    "\n",
    "    # Step 2: Setup Pydantic parser and format instructions\n",
    "    parser = pydanticParser()\n",
    "    system_instructions, prompt = instructionsFormat(parser, ocr_text)\n",
    "\n",
    "    # Step 3: Call the LLM model to extract invoice data\n",
    "    extracted_data = LLMModelCall(prompt, system_instructions)\n",
    "    facture_data = parser.parse(extracted_data)\n",
    "   \n",
    "    date = facture_data.date\n",
    "    monto = facture_data.monto\n",
    "    facture_number = facture_data.facture_number\n",
    "\n",
    "    \n",
    "    return date,monto,facture_number\n",
    "\n",
    "def query_database(query_vector_text):\n",
    "    try:\n",
    "        query_vector = json.loads(query_vector_text)\n",
    "        db_results = query_pinecone(query_vector)\n",
    "    except json.JSONDecodeError:\n",
    "        db_results = \"Invalid query vector format. Please enter a valid JSON array.\"\n",
    "    except Exception as e:\n",
    "        db_results = str(e)\n",
    "\n",
    "    return db_results\n",
    "\n",
    "def invoice_interface():\n",
    "    invoice_app = gr.Interface(\n",
    "        fn=process_invoice,\n",
    "        inputs=[\n",
    "            gr.Image(type=\"filepath\", label=\"Upload Invoice Image\"),\n",
    "            gr.Checkbox(label=\"Use EasyOCR\"),\n",
    "        ],\n",
    "        outputs=[\n",
    "            gr.Textbox(label=\"Date\"),\n",
    "            gr.Textbox(label=\"Monto\"),\n",
    "            gr.Textbox(label=\"Facture Number\")\n",
    "        ],\n",
    "        title=\"Invoice Data Extractor\",\n",
    "        description=\"Upload an invoice image and extract data from it using OCR and LLM\"\n",
    "    )\n",
    "    invoice_app.launch()\n",
    "\n",
    "def pinecone_query_interface():\n",
    "    query_app = gr.Interface(\n",
    "        fn=query_database,\n",
    "        inputs=[\n",
    "            gr.Textbox(label=\"Query Vector\", placeholder=\"Enter query vector as a list of numbers\")\n",
    "        ],\n",
    "        outputs=[\n",
    "            gr.Textbox(label=\"Pinecone Results\")\n",
    "        ],\n",
    "        title=\"Pinecone Database Query\",\n",
    "        description=\"Enter a query vector to search the Pinecone database.\"\n",
    "    )\n",
    "    query_app.launch()\n",
    "\n",
    "def main_menu(choice):\n",
    "    if choice == \"Extract Invoice Data\":\n",
    "        invoice_interface()\n",
    "    elif choice == \"Query Pinecone Database\":\n",
    "        pinecone_query_interface()\n",
    "\n",
    "menu_choices = [\"Extract Invoice Data\", \"Query Pinecone Database\"]\n",
    "menu = gr.Interface(\n",
    "    fn=main_menu,\n",
    "    inputs=gr.Dropdown(menu_choices, label=\"Choose an option\"),\n",
    "    outputs=None,\n",
    "    title=\"Main Menu\",\n",
    "    description=\"Select an option to proceed\"\n",
    ")\n",
    "\n",
    "# Launch the main menu\n",
    "menu.launch()"
   ]
  }
 ],
 "metadata": {
  "kernelspec": {
   "display_name": "base",
   "language": "python",
   "name": "python3"
  },
  "language_info": {
   "codemirror_mode": {
    "name": "ipython",
    "version": 3
   },
   "file_extension": ".py",
   "mimetype": "text/x-python",
   "name": "python",
   "nbconvert_exporter": "python",
   "pygments_lexer": "ipython3",
   "version": "3.11.7"
  }
 },
 "nbformat": 4,
 "nbformat_minor": 2
}
