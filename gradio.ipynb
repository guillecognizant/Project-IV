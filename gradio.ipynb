{
 "cells": [
  {
   "cell_type": "code",
   "execution_count": 3,
   "metadata": {},
   "outputs": [
    {
     "name": "stdout",
     "output_type": "stream",
     "text": [
      "Running on local URL:  http://127.0.0.1:7861\n",
      "\n",
      "To create a public link, set `share=True` in `launch()`.\n"
     ]
    },
    {
     "data": {
      "text/html": [
       "<div><iframe src=\"http://127.0.0.1:7861/\" width=\"100%\" height=\"500\" allow=\"autoplay; camera; microphone; clipboard-read; clipboard-write;\" frameborder=\"0\" allowfullscreen></iframe></div>"
      ],
      "text/plain": [
       "<IPython.core.display.HTML object>"
      ]
     },
     "metadata": {},
     "output_type": "display_data"
    },
    {
     "data": {
      "text/plain": []
     },
     "execution_count": 3,
     "metadata": {},
     "output_type": "execute_result"
    },
    {
     "name": "stdout",
     "output_type": "stream",
     "text": [
      "IMPORTANT: You are using gradio version 3.50.2, however version 4.29.0 is available, please upgrade.\n",
      "--------\n"
     ]
    },
    {
     "name": "stderr",
     "output_type": "stream",
     "text": [
      "Neither CUDA nor MPS are available - defaulting to CPU. Note: This module is much faster with a GPU.\n",
      "Downloading detection model, please wait. This may take several minutes depending upon your network connection.\n"
     ]
    },
    {
     "name": "stdout",
     "output_type": "stream",
     "text": [
      "Progress: |██████████████████████████████████████████████████| 100.0% Complete"
     ]
    },
    {
     "name": "stderr",
     "output_type": "stream",
     "text": [
      "Downloading recognition model, please wait. This may take several minutes depending upon your network connection.\n"
     ]
    },
    {
     "name": "stdout",
     "output_type": "stream",
     "text": [
      "Progress: |██████████████████████████████████████████████████| 100.0% CompleteTexto extraído con OCR:\n",
      "Facuure 6)>ili orange SM ART CALL D ITRBUTDN Num éro de Facture F-0123-1879887 192 ETG 4 RES B N com pte client 10564756 BD ZERKTOUNI Date d 'éditin 23/01/2023 20000 CASABLANCA Vos coordonnées SM ART CALL DSTRBUTDN Votre facuure du 18 Janvir 2023 192 ETG 4 RES B BD ZERKTOUNI M ontant totalà payer 396 , DH Dom iiliatin bancaie Date li ie de paim ente 08/02/2023 PIssu Jsl ,/ Tiuhie :SM ART CALL DITRBUTDN Banque :ATTIARI AFABANK N de Com pte Pourvotre sécurité en cette pérpde, nous vous 007780000629500000017864 recom m andons de payer vos factures en lggne . Votre CE 001685924000018 sécurité estnotre rité Nous contacter Résum é de h facuure M ontanten DH Parcourir 0 range M aroc Vos forfaits/abonnem ents etoptins 330,00 Lotisem enth colne I m m eubb bs Q uate Tem ps M ontanthT 330,00 Votre servie clients TVA (20%) ^.G.ci 66,00 178 depui un m obi 0 range (appelgratui) (+212)05 20 178 178 TotalTTC 396 ,00 +coûtappelsebn opérateur 7 j7 de 07h à OOh Sole en votre faveur 0,00 rhtpnentreprise@ orange m a WWW entreprise orange m a M ontantttalà payer  ;lal +?l,l chll 396,00 Paim ents eflectués par * clnt Ponts de filelité accordés survotre facture du m ois 36 Sode de ponts de filélité gbbal 560 Sode de ponts de filélité non 560 MEDITELECOM SA au Capjalde 2373168.700 DH Page 1 / 8 Sège socal:Lotisem enth Colie I I m eub Es Q uabe Tem ps, SiliM aâruf; C asabhnca, 20270, M aroc RC 97815 Patente 37 998 011 - F 108 6826 CNSS 6018924 CE 001524628000001 orange m a ',00 prir gel\n"
     ]
    },
    {
     "name": "stderr",
     "output_type": "stream",
     "text": [
      "Neither CUDA nor MPS are available - defaulting to CPU. Note: This module is much faster with a GPU.\n"
     ]
    },
    {
     "name": "stdout",
     "output_type": "stream",
     "text": [
      "Texto extraído con OCR:\n",
      "~i2i J;lil ~5001+ { ~c ! Auro-ealcepreneur Date 28/03/2023 Facture numéro 000 001 Client : Smart Call Distribution Adresse 3, Angle Rues Alfred de Musset et Abdelkader El Mazini ler Etage, Quartier Gautier, Casablanca Dësignätíön 'Quantité Prixuniraïre Total RD.V 30 120,00 DH 3600.00 DH AVANCE SUR REMUNERATION 500,00 500,00 Montant en dirhams Total Net à payer 3100,00 (Hors champ de la TVA') ARRETE LA PRESENTE FACTURE A LA SOMME DE #TROIS MILLE CENT DIRHAMS # FoyN# 'Art 89 II = 1' c, Code Général des Impôts. KCE: Auto Entrepreneur Mouhcine FTOUHI CNIE A 251909 Adresse 3, Imm 97, GH 23, Lotissement Firdaous, Oulfa, Casblanca ICE (N' d'inscription au registre national de lauto-entrepreneur) 003159152000040 IF : 52682016 Taxe professionnelle N' 25909366 TEL 0696579734 Mail Mouhcine22f@gmail com Mounchno Con Auto-Entr Oocw SsyY 00315\n"
     ]
    }
   ],
   "source": [
    "import gradio as gr\n",
    "import pandas as pd\n",
    "import json \n",
    "from FactureModel import Facture\n",
    "import constants as const\n",
    "from gradio import Interface, Image, Checkbox, Textbox\n",
    "from functions import readDataSet, imageObjCreation, readImgOCR, pydanticParser, instructionsFormat, LLMModelCall\n",
    "\n",
    "def process_invoice(image_path, do_easyocr):\n",
    "    # Step 1: Process the image to extract text using OCR\n",
    "    with open(image_path, \"rb\") as f:\n",
    "        image_bytes = f.read()\n",
    "    image_obj = imageObjCreation(image_bytes)\n",
    "    ocr_text = readImgOCR(image_bytes, image_obj, do_easyocr)\n",
    "\n",
    "    # Step 2: Setup Pydantic parser and format instructions\n",
    "    parser = pydanticParser()\n",
    "    system_instructions, prompt = instructionsFormat(parser, ocr_text)\n",
    "\n",
    "    # Step 3: Call the LLM model to extract invoice data\n",
    "    extracted_data = LLMModelCall(prompt, system_instructions)\n",
    "    facture_data = parser.parse(extracted_data)\n",
    "   \n",
    "    date = facture_data.date\n",
    "    monto = facture_data.monto\n",
    "    facture_number = facture_data.facture_number\n",
    "\n",
    "    return date,monto,facture_number\n",
    "\n",
    "# Define the Gradio interface\n",
    "iface = gr.Interface(\n",
    "    fn=process_invoice,\n",
    "    inputs=[\n",
    "        gr.Image(type=\"filepath\", label=\"Upload Invoice Image\"),\n",
    "        gr.Checkbox(label=\"Use EasyOCR\"),\n",
    "    ],\n",
    "     outputs=[\n",
    "        gr.Textbox(label=\"Date\"),\n",
    "        gr.Textbox(label=\"Monto\"),\n",
    "        gr.Textbox(label=\"Facture Number\")],\n",
    "    title=\"Invoice Data Extractor\",\n",
    "    description=\"Upload an invoice image and extract data from it using OCR and LLM\",\n",
    ")\n",
    "\n",
    "# Launch the Gradio app\n",
    "iface.launch()"
   ]
  },
  {
   "cell_type": "code",
   "execution_count": 1,
   "metadata": {},
   "outputs": [
    {
     "name": "stdout",
     "output_type": "stream",
     "text": [
      "Requirement already satisfied: gradio in /system/conda/miniconda3/envs/cloudspace/lib/python3.10/site-packages (3.50.2)\n",
      "Requirement already satisfied: aiofiles<24.0,>=22.0 in /system/conda/miniconda3/envs/cloudspace/lib/python3.10/site-packages (from gradio) (23.2.1)\n",
      "Requirement already satisfied: altair<6.0,>=4.2.0 in /system/conda/miniconda3/envs/cloudspace/lib/python3.10/site-packages (from gradio) (5.3.0)\n",
      "Requirement already satisfied: fastapi in /system/conda/miniconda3/envs/cloudspace/lib/python3.10/site-packages (from gradio) (0.111.0)\n",
      "Requirement already satisfied: ffmpy in /system/conda/miniconda3/envs/cloudspace/lib/python3.10/site-packages (from gradio) (0.3.2)\n",
      "Requirement already satisfied: gradio-client==0.6.1 in /system/conda/miniconda3/envs/cloudspace/lib/python3.10/site-packages (from gradio) (0.6.1)\n",
      "Requirement already satisfied: httpx in /system/conda/miniconda3/envs/cloudspace/lib/python3.10/site-packages (from gradio) (0.27.0)\n",
      "Requirement already satisfied: huggingface-hub>=0.14.0 in /system/conda/miniconda3/envs/cloudspace/lib/python3.10/site-packages (from gradio) (0.23.4)\n",
      "Requirement already satisfied: importlib-resources<7.0,>=1.3 in /system/conda/miniconda3/envs/cloudspace/lib/python3.10/site-packages (from gradio) (6.4.0)\n",
      "Requirement already satisfied: jinja2<4.0 in /system/conda/miniconda3/envs/cloudspace/lib/python3.10/site-packages (from gradio) (3.1.4)\n",
      "Requirement already satisfied: markupsafe~=2.0 in /system/conda/miniconda3/envs/cloudspace/lib/python3.10/site-packages (from gradio) (2.1.5)\n",
      "Requirement already satisfied: matplotlib~=3.0 in /system/conda/miniconda3/envs/cloudspace/lib/python3.10/site-packages (from gradio) (3.8.2)\n",
      "Requirement already satisfied: numpy~=1.0 in /system/conda/miniconda3/envs/cloudspace/lib/python3.10/site-packages (from gradio) (1.26.4)\n",
      "Requirement already satisfied: orjson~=3.0 in /system/conda/miniconda3/envs/cloudspace/lib/python3.10/site-packages (from gradio) (3.10.6)\n",
      "Requirement already satisfied: packaging in /system/conda/miniconda3/envs/cloudspace/lib/python3.10/site-packages (from gradio) (24.1)\n",
      "Requirement already satisfied: pandas<3.0,>=1.0 in /system/conda/miniconda3/envs/cloudspace/lib/python3.10/site-packages (from gradio) (2.1.4)\n",
      "Requirement already satisfied: pillow<11.0,>=8.0 in /system/conda/miniconda3/envs/cloudspace/lib/python3.10/site-packages (from gradio) (10.4.0)\n",
      "Requirement already satisfied: pydantic!=1.8,!=1.8.1,!=2.0.0,!=2.0.1,<3.0.0,>=1.7.4 in /system/conda/miniconda3/envs/cloudspace/lib/python3.10/site-packages (from gradio) (2.8.2)\n",
      "Requirement already satisfied: pydub in /system/conda/miniconda3/envs/cloudspace/lib/python3.10/site-packages (from gradio) (0.25.1)\n",
      "Requirement already satisfied: python-multipart in /system/conda/miniconda3/envs/cloudspace/lib/python3.10/site-packages (from gradio) (0.0.9)\n",
      "Requirement already satisfied: pyyaml<7.0,>=5.0 in /system/conda/miniconda3/envs/cloudspace/lib/python3.10/site-packages (from gradio) (6.0.1)\n",
      "Requirement already satisfied: requests~=2.0 in /system/conda/miniconda3/envs/cloudspace/lib/python3.10/site-packages (from gradio) (2.32.3)\n",
      "Requirement already satisfied: semantic-version~=2.0 in /system/conda/miniconda3/envs/cloudspace/lib/python3.10/site-packages (from gradio) (2.10.0)\n",
      "Requirement already satisfied: typing-extensions~=4.0 in /system/conda/miniconda3/envs/cloudspace/lib/python3.10/site-packages (from gradio) (4.12.2)\n",
      "Requirement already satisfied: uvicorn>=0.14.0 in /system/conda/miniconda3/envs/cloudspace/lib/python3.10/site-packages (from gradio) (0.30.1)\n",
      "Requirement already satisfied: websockets<12.0,>=10.0 in /system/conda/miniconda3/envs/cloudspace/lib/python3.10/site-packages (from gradio) (11.0.3)\n",
      "Requirement already satisfied: fsspec in /system/conda/miniconda3/envs/cloudspace/lib/python3.10/site-packages (from gradio-client==0.6.1->gradio) (2024.5.0)\n",
      "Requirement already satisfied: jsonschema>=3.0 in /system/conda/miniconda3/envs/cloudspace/lib/python3.10/site-packages (from altair<6.0,>=4.2.0->gradio) (4.23.0)\n",
      "Requirement already satisfied: toolz in /system/conda/miniconda3/envs/cloudspace/lib/python3.10/site-packages (from altair<6.0,>=4.2.0->gradio) (0.12.1)\n",
      "Requirement already satisfied: filelock in /system/conda/miniconda3/envs/cloudspace/lib/python3.10/site-packages (from huggingface-hub>=0.14.0->gradio) (3.15.4)\n",
      "Requirement already satisfied: tqdm>=4.42.1 in /system/conda/miniconda3/envs/cloudspace/lib/python3.10/site-packages (from huggingface-hub>=0.14.0->gradio) (4.66.4)\n",
      "Requirement already satisfied: contourpy>=1.0.1 in /system/conda/miniconda3/envs/cloudspace/lib/python3.10/site-packages (from matplotlib~=3.0->gradio) (1.2.1)\n",
      "Requirement already satisfied: cycler>=0.10 in /system/conda/miniconda3/envs/cloudspace/lib/python3.10/site-packages (from matplotlib~=3.0->gradio) (0.12.1)\n",
      "Requirement already satisfied: fonttools>=4.22.0 in /system/conda/miniconda3/envs/cloudspace/lib/python3.10/site-packages (from matplotlib~=3.0->gradio) (4.53.1)\n",
      "Requirement already satisfied: kiwisolver>=1.3.1 in /system/conda/miniconda3/envs/cloudspace/lib/python3.10/site-packages (from matplotlib~=3.0->gradio) (1.4.5)\n",
      "Requirement already satisfied: pyparsing>=2.3.1 in /system/conda/miniconda3/envs/cloudspace/lib/python3.10/site-packages (from matplotlib~=3.0->gradio) (3.1.2)\n",
      "Requirement already satisfied: python-dateutil>=2.7 in /system/conda/miniconda3/envs/cloudspace/lib/python3.10/site-packages (from matplotlib~=3.0->gradio) (2.9.0.post0)\n",
      "Requirement already satisfied: pytz>=2020.1 in /system/conda/miniconda3/envs/cloudspace/lib/python3.10/site-packages (from pandas<3.0,>=1.0->gradio) (2024.1)\n",
      "Requirement already satisfied: tzdata>=2022.1 in /system/conda/miniconda3/envs/cloudspace/lib/python3.10/site-packages (from pandas<3.0,>=1.0->gradio) (2024.1)\n",
      "Requirement already satisfied: annotated-types>=0.4.0 in /system/conda/miniconda3/envs/cloudspace/lib/python3.10/site-packages (from pydantic!=1.8,!=1.8.1,!=2.0.0,!=2.0.1,<3.0.0,>=1.7.4->gradio) (0.7.0)\n",
      "Requirement already satisfied: pydantic-core==2.20.1 in /system/conda/miniconda3/envs/cloudspace/lib/python3.10/site-packages (from pydantic!=1.8,!=1.8.1,!=2.0.0,!=2.0.1,<3.0.0,>=1.7.4->gradio) (2.20.1)\n",
      "Requirement already satisfied: charset-normalizer<4,>=2 in /system/conda/miniconda3/envs/cloudspace/lib/python3.10/site-packages (from requests~=2.0->gradio) (3.3.2)\n",
      "Requirement already satisfied: idna<4,>=2.5 in /system/conda/miniconda3/envs/cloudspace/lib/python3.10/site-packages (from requests~=2.0->gradio) (3.7)\n",
      "Requirement already satisfied: urllib3<3,>=1.21.1 in /system/conda/miniconda3/envs/cloudspace/lib/python3.10/site-packages (from requests~=2.0->gradio) (2.2.2)\n",
      "Requirement already satisfied: certifi>=2017.4.17 in /system/conda/miniconda3/envs/cloudspace/lib/python3.10/site-packages (from requests~=2.0->gradio) (2024.7.4)\n",
      "Requirement already satisfied: click>=7.0 in /system/conda/miniconda3/envs/cloudspace/lib/python3.10/site-packages (from uvicorn>=0.14.0->gradio) (8.1.7)\n",
      "Requirement already satisfied: h11>=0.8 in /system/conda/miniconda3/envs/cloudspace/lib/python3.10/site-packages (from uvicorn>=0.14.0->gradio) (0.14.0)\n",
      "Requirement already satisfied: starlette<0.38.0,>=0.37.2 in /system/conda/miniconda3/envs/cloudspace/lib/python3.10/site-packages (from fastapi->gradio) (0.37.2)\n",
      "Requirement already satisfied: fastapi-cli>=0.0.2 in /system/conda/miniconda3/envs/cloudspace/lib/python3.10/site-packages (from fastapi->gradio) (0.0.4)\n",
      "Requirement already satisfied: ujson!=4.0.2,!=4.1.0,!=4.2.0,!=4.3.0,!=5.0.0,!=5.1.0,>=4.0.1 in /system/conda/miniconda3/envs/cloudspace/lib/python3.10/site-packages (from fastapi->gradio) (5.10.0)\n",
      "Requirement already satisfied: email_validator>=2.0.0 in /system/conda/miniconda3/envs/cloudspace/lib/python3.10/site-packages (from fastapi->gradio) (2.2.0)\n",
      "Requirement already satisfied: anyio in /system/conda/miniconda3/envs/cloudspace/lib/python3.10/site-packages (from httpx->gradio) (4.4.0)\n",
      "Requirement already satisfied: httpcore==1.* in /system/conda/miniconda3/envs/cloudspace/lib/python3.10/site-packages (from httpx->gradio) (1.0.5)\n",
      "Requirement already satisfied: sniffio in /system/conda/miniconda3/envs/cloudspace/lib/python3.10/site-packages (from httpx->gradio) (1.3.1)\n",
      "Requirement already satisfied: dnspython>=2.0.0 in /system/conda/miniconda3/envs/cloudspace/lib/python3.10/site-packages (from email_validator>=2.0.0->fastapi->gradio) (2.6.1)\n",
      "Requirement already satisfied: typer>=0.12.3 in /system/conda/miniconda3/envs/cloudspace/lib/python3.10/site-packages (from fastapi-cli>=0.0.2->fastapi->gradio) (0.12.3)\n",
      "Requirement already satisfied: attrs>=22.2.0 in /system/conda/miniconda3/envs/cloudspace/lib/python3.10/site-packages (from jsonschema>=3.0->altair<6.0,>=4.2.0->gradio) (23.2.0)\n",
      "Requirement already satisfied: jsonschema-specifications>=2023.03.6 in /system/conda/miniconda3/envs/cloudspace/lib/python3.10/site-packages (from jsonschema>=3.0->altair<6.0,>=4.2.0->gradio) (2023.12.1)\n",
      "Requirement already satisfied: referencing>=0.28.4 in /system/conda/miniconda3/envs/cloudspace/lib/python3.10/site-packages (from jsonschema>=3.0->altair<6.0,>=4.2.0->gradio) (0.35.1)\n",
      "Requirement already satisfied: rpds-py>=0.7.1 in /system/conda/miniconda3/envs/cloudspace/lib/python3.10/site-packages (from jsonschema>=3.0->altair<6.0,>=4.2.0->gradio) (0.19.0)\n",
      "Requirement already satisfied: six>=1.5 in /system/conda/miniconda3/envs/cloudspace/lib/python3.10/site-packages (from python-dateutil>=2.7->matplotlib~=3.0->gradio) (1.16.0)\n",
      "Requirement already satisfied: exceptiongroup>=1.0.2 in /system/conda/miniconda3/envs/cloudspace/lib/python3.10/site-packages (from anyio->httpx->gradio) (1.2.1)\n",
      "Requirement already satisfied: httptools>=0.5.0 in /system/conda/miniconda3/envs/cloudspace/lib/python3.10/site-packages (from uvicorn[standard]>=0.12.0->fastapi->gradio) (0.6.1)\n",
      "Requirement already satisfied: python-dotenv>=0.13 in /system/conda/miniconda3/envs/cloudspace/lib/python3.10/site-packages (from uvicorn[standard]>=0.12.0->fastapi->gradio) (1.0.1)\n",
      "Requirement already satisfied: uvloop!=0.15.0,!=0.15.1,>=0.14.0 in /system/conda/miniconda3/envs/cloudspace/lib/python3.10/site-packages (from uvicorn[standard]>=0.12.0->fastapi->gradio) (0.19.0)\n",
      "Requirement already satisfied: watchfiles>=0.13 in /system/conda/miniconda3/envs/cloudspace/lib/python3.10/site-packages (from uvicorn[standard]>=0.12.0->fastapi->gradio) (0.22.0)\n",
      "Requirement already satisfied: shellingham>=1.3.0 in /system/conda/miniconda3/envs/cloudspace/lib/python3.10/site-packages (from typer>=0.12.3->fastapi-cli>=0.0.2->fastapi->gradio) (1.5.4)\n",
      "Requirement already satisfied: rich>=10.11.0 in /system/conda/miniconda3/envs/cloudspace/lib/python3.10/site-packages (from typer>=0.12.3->fastapi-cli>=0.0.2->fastapi->gradio) (13.7.1)\n",
      "Requirement already satisfied: markdown-it-py>=2.2.0 in /system/conda/miniconda3/envs/cloudspace/lib/python3.10/site-packages (from rich>=10.11.0->typer>=0.12.3->fastapi-cli>=0.0.2->fastapi->gradio) (3.0.0)\n",
      "Requirement already satisfied: pygments<3.0.0,>=2.13.0 in /system/conda/miniconda3/envs/cloudspace/lib/python3.10/site-packages (from rich>=10.11.0->typer>=0.12.3->fastapi-cli>=0.0.2->fastapi->gradio) (2.18.0)\n",
      "Requirement already satisfied: mdurl~=0.1 in /system/conda/miniconda3/envs/cloudspace/lib/python3.10/site-packages (from markdown-it-py>=2.2.0->rich>=10.11.0->typer>=0.12.3->fastapi-cli>=0.0.2->fastapi->gradio) (0.1.2)\n",
      "Note: you may need to restart the kernel to use updated packages.\n"
     ]
    }
   ],
   "source": [
    "pip install gradio"
   ]
  },
  {
   "cell_type": "markdown",
   "metadata": {},
   "source": [
    "# Gradio with Query and OCR "
   ]
  },
  {
   "cell_type": "code",
   "execution_count": null,
   "metadata": {},
   "outputs": [],
   "source": [
    "# import gradio as gr\n",
    "# import pandas as pd\n",
    "# import json \n",
    "# from FactureModel import Facture\n",
    "# import constants as const\n",
    "# from gradio import Interface, Image, Checkbox, Textbox\n",
    "# from functions import readDataSet, imageObjCreation, readImgOCR, pydanticParser, instructionsFormat, LLMModelCall, query_pinecone\n",
    "\n",
    "# def process_invoice(image_path, do_easyocr):\n",
    "#     # Step 1: Process the image to extract text using OCR\n",
    "#     with open(image_path, \"rb\") as f:\n",
    "#         image_bytes = f.read()\n",
    "#     image_obj = imageObjCreation(image_bytes)\n",
    "#     ocr_text = readImgOCR(image_bytes, image_obj, do_easyocr)\n",
    "\n",
    "#     # Step 2: Setup Pydantic parser and format instructions\n",
    "#     parser = pydanticParser()\n",
    "#     system_instructions, prompt = instructionsFormat(parser, ocr_text)\n",
    "\n",
    "#     # Step 3: Call the LLM model to extract invoice data\n",
    "#     extracted_data = LLMModelCall(prompt, system_instructions)\n",
    "#     facture_data = parser.parse(extracted_data)\n",
    "   \n",
    "#     date = facture_data.date\n",
    "#     monto = facture_data.monto\n",
    "#     facture_number = facture_data.facture_number\n",
    "\n",
    "    \n",
    "#     return date,monto,facture_number\n",
    "\n",
    "# def query_database(query_vector_text):\n",
    "#     try:\n",
    "#         query_vector= json.loads(query_vector_text)\n",
    "#         db_results = query_pinecone(query_vector)\n",
    "#     except json.JSONDecodeError:\n",
    "#         db_results = \"Invalid query vector format. Please enter a valid JSON array.\"\n",
    "#     except Exception as e:\n",
    "#         db_results = str(e)\n",
    "\n",
    "#     return db_results\n",
    "    \n",
    "# def main_menu(choice):\n",
    "#     if choice == \"Extract Invoice Data\":\n",
    "#         return gr.update(visible=False), gr.update(visible=True), gr.update(visible=False)\n",
    "#     elif choice == \"Query Pinecone Database\":\n",
    "#         return gr.update(visible=False), gr.update(visible=False), gr.update(visible=True)\n",
    "    \n",
    "# menu_choices = [\"Extract Invoice Data\", \"Query Pinecone Database\"]\n",
    "# with gr.Blocks() as demo:\n",
    "#     with gr.Row():\n",
    "#         dropdown = gr.Dropdown(menu_choices, label=\"Choose an option\")\n",
    "#         submit = gr.Button(\"Submit\")\n",
    "\n",
    "#     with gr.Row(visible=False) as invoice_interface_row:\n",
    "#         with gr.Column():\n",
    "#             invoice_interface = gr.Interface(\n",
    "#                 fn=process_invoice,\n",
    "#                 inputs=[\n",
    "#                     gr.Image(type=\"filepath\", label=\"Upload Invoice Image\"),\n",
    "#                     gr.Checkbox(label=\"Use EasyOCR\"),\n",
    "#                 ],\n",
    "#                 outputs=[\n",
    "#                     gr.Textbox(label=\"Date\"),\n",
    "#                     gr.Textbox(label=\"Monto\"),\n",
    "#                     gr.Textbox(label=\"Facture Number\")\n",
    "#                 ],\n",
    "#                 title=\"Invoice Data Extractor\",\n",
    "#                 description=\"Upload an invoice image and extract data from it using OCR and LLM\"\n",
    "#             ).render()\n",
    "\n",
    "#     with gr.Row(visible=False) as pinecone_interface_row:\n",
    "#         with gr.Column():\n",
    "#             pinecone_query_interface = gr.Interface(\n",
    "#                 fn=query_database,\n",
    "#                 inputs=[\n",
    "#                     gr.Textbox(label=\"Query Vector\", placeholder=\"Enter query vector as a list of numbers\")\n",
    "#                 ],\n",
    "#                 outputs=[\n",
    "#                     gr.Textbox(label=\"Pinecone Results\")\n",
    "#                 ],\n",
    "#                 title=\"Pinecone Database Query\",\n",
    "#                 description=\"Enter a query vector to search the Pinecone database.\"\n",
    "#             ).render()\n",
    "\n",
    "#     submit.click(\n",
    "#         main_menu,\n",
    "#         inputs=[dropdown],\n",
    "#         outputs=[dropdown, invoice_interface_row, pinecone_interface_row]\n",
    "#     )\n",
    "\n",
    "# # Launch the main menu\n",
    "# demo.launch()"
   ]
  }
 ],
 "metadata": {
  "kernelspec": {
   "display_name": "base",
   "language": "python",
   "name": "python3"
  },
  "language_info": {
   "codemirror_mode": {
    "name": "ipython",
    "version": 3
   },
   "file_extension": ".py",
   "mimetype": "text/x-python",
   "name": "python",
   "nbconvert_exporter": "python",
   "pygments_lexer": "ipython3",
   "version": "3.9.0"
  }
 },
 "nbformat": 4,
 "nbformat_minor": 2
}
